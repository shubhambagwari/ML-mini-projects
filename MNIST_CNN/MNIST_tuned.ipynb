{
 "cells": [
  {
   "cell_type": "code",
   "execution_count": 4,
   "metadata": {},
   "outputs": [],
   "source": [
    "import tensorflow as tf\n",
    "from tensorflow import keras\n",
    "from tensorflow.keras.optimizers import Adam\n",
    "from tensorflow.keras import datasets, layers, models\n",
    "import matplotlib.pyplot as plt\n",
    "from tensorflow.keras.layers import BatchNormalization, Conv2D, MaxPooling2D, Activation, Flatten, Dropout, Dense\n",
    "from tensorflow.keras.models import Sequential\n",
    "%matplotlib inline\n",
    "import numpy as np\n",
    "import pandas as pd\n",
    "\n",
    "epochs=2\n",
    "batch_size=64\n",
    "lr = 1e-3\n",
    "\n",
    "(X_train, y_train) , (X_test, y_test) = keras.datasets.mnist.load_data()\n",
    "X_train = X_train / 255\n",
    "X_test = X_test / 255\n",
    "\n",
    "X_train = X_train.reshape(-1,28,28)\n",
    "X_test = X_test.reshape(-1,28,28)\n",
    "\n",
    "height=28\n",
    "depth=1\n",
    "width=28\n",
    "# def build(width, height, depth):\n",
    "    \n",
    "\n",
    "\n",
    "# build model\n",
    "# model = build(width=width, height=height, depth=depth)\n",
    "# compile the model\n",
    "\n",
    "\n",
    "# train the model\n",
    "# model.fit(X_train, y_train,epochs=epochs)\n",
    "# model.evaluate(X_test,y_test)\n",
    "\n",
    "def build_model(dropout_rate,neurons,h_layers):\n",
    "  modeel=keras.Sequential()     # coz we need to add all the layers in sequence\n",
    "  for i in  h_layers:\n",
    "    if i==1:\n",
    "      modeel.add(layers.Flatten(input_shape=(28,28)))\n",
    "      modeel.add(layers.Dropout(dropout_rate))      \n",
    "    else:\n",
    "     modeel.add(layers.Dense(neurons,activation='relu'))\n",
    "     modeel.add(layers.Dropout(dropout_rate))      \n",
    "  \n",
    "  modeel.add(layers.Dense(10,activation='sigmoid'))\n",
    "  modeel.compile(optimizer='Adam',                \n",
    "              #loss='sparse_categorical_crossentropy',  \n",
    "              loss=tf.keras.losses.SparseCategoricalCrossentropy(\n",
    "    from_logits=False, reduction=\"auto\", name=\"sparse_categorical_crossentropy\"\n",
    "                )    ,        \n",
    "              metrics=['accuracy'] )\n",
    "  return modeel \n",
    "      \n",
    "\n",
    "# def build_model(dropout_rate,neurons,h_layers):\n",
    "#     model = Sequential()\n",
    "#     for i in  h_layers:\n",
    "#         if i==1:\n",
    "#             model.add(Conv2D(32, (3,3), padding=\"same\", input_shape=inputShape))\n",
    "#             model.add(Activation(\"relu\"))\n",
    "#             model.add(BatchNormalization())\n",
    "#             model.add(MaxPooling2D(pool_size=(3,3))\n",
    "#             model.add(Dropout(0.5))\n",
    "#         else:\n",
    "#             model.add(Conv2D(128, (3,3), padding=\"same\"))\n",
    "#             model.add(Activation(\"relu\"))  \n",
    "#             model.add(BatchNormalization())\n",
    "#             model.add(MaxPooling2D(pool_size=(2,2)))\n",
    "#             model.add(Dropout(0.5))\n",
    "#     model.add(Flatten())\n",
    "#     model.add(Dense(1024)\n",
    "#     model.add(Activation(\"relu\"))\n",
    "#     model.add(BatchNormalization())        \n",
    "#     model.add(Dropout(0.5))\n",
    "\n",
    "#     model.add(Dense(classes))\n",
    "#     model.add(Activation(\"sigmoid\"))   \n",
    "#     opt = Adam(lr=lr, decay=lr/epochs)\n",
    "#     model.compile(loss=\"sparse_categorical_crossentropy\", optimizer=opt, metrics=[\"accuracy\"])\n",
    "\n",
    "#     return model\n",
    "#         #\n",
    "        \n",
    "#         model = build(width=width, height=height, depth=depth)        \n",
    "#   modeel=keras.Sequential()     # coz we need to add all the layers in sequence\n",
    "     \n",
    "  \n",
    "#   modeel.add(layers.Dense(10,activation='sigmoid'))\n",
    "#   modeel.compile(optimizer='Adam',                \n",
    "#               #loss='sparse_categorical_crossentropy',  \n",
    "#               loss=tf.keras.losses.SparseCategoricalCrossentropy(\n",
    "#     from_logits=False, reduction=\"auto\", name=\"sparse_categorical_crossentropy\"\n",
    "#                 )    ,        \n",
    "#               metrics=['accuracy'] )\n",
    "#   return modeel \n",
    "        \n"
   ]
  },
  {
   "cell_type": "markdown",
   "metadata": {
    "id": "B0dSEojat3aJ"
   },
   "source": [
    "**Hypertuning**"
   ]
  },
  {
   "cell_type": "code",
   "execution_count": 5,
   "metadata": {
    "executionInfo": {
     "elapsed": 642,
     "status": "ok",
     "timestamp": 1626325353764,
     "user": {
      "displayName": "Kanika Choudhary",
      "photoUrl": "https://lh3.googleusercontent.com/a-/AOh14Gge0Jkr-jf7G6_lQZt0ZNBNv09zX5AMBEwiihyJ=s64",
      "userId": "18159558230090264426"
     },
     "user_tz": -330
    },
    "id": "K3rvPmgllRYN"
   },
   "outputs": [],
   "source": [
    "from sklearn.model_selection import GridSearchCV\n",
    "from keras.wrappers.scikit_learn import KerasClassifier\n",
    "\n",
    "moodel=KerasClassifier(build_fn=build_model,verbose=1)\n",
    "\n",
    "dropout_rate=[0.1,0.2,0.3,0.4,0.5]\n",
    "neurons=[10,32,64]\n",
    "h_layers=[[10],[20,30],[40,30,50]]\n",
    "epochs=[10,50,100]\n",
    "\n",
    "paramgrid=dict(h_layers=h_layers,dropout_rate=dropout_rate,neurons=neurons,epochs=epochs)\n",
    "\n",
    "grid=GridSearchCV(estimator=moodel,param_grid=paramgrid,cv=3)\n",
    "\n"
   ]
  },
  {
   "cell_type": "code",
   "execution_count": null,
   "metadata": {
    "colab": {
     "base_uri": "https://localhost:8080/"
    },
    "id": "x04M1bRqnvcs",
    "outputId": "9fdf1542-6aa1-4f46-c291-ee97ad361c56"
   },
   "outputs": [
    {
     "name": "stdout",
     "output_type": "stream",
     "text": [
      "Epoch 1/10\n",
      "Epoch 1/10\n",
      "Epoch 1/10\n",
      "Epoch 1/10\n",
      "Epoch 1/10\n",
      "Epoch 1/10\n",
      "Epoch 1/10\n",
      "Epoch 1/10\n",
      "Epoch 1/10\n",
      "Epoch 1/10\n",
      "Epoch 1/10\n",
      "Epoch 1/10\n",
      "Epoch 1/10\n",
      "Epoch 1/10\n",
      "Epoch 1/10\n",
      "Epoch 1/10\n",
      "Epoch 1/10\n",
      "Epoch 1/10\n",
      "Epoch 1/10\n",
      "Epoch 1/10\n",
      "Epoch 1/10\n",
      "Epoch 1/10\n",
      "Epoch 1/10\n",
      "Epoch 1/10\n",
      "Epoch 1/10\n",
      "Epoch 1/10\n"
     ]
    }
   ],
   "source": [
    "grid_result=grid.fit(X_train,y_train)"
   ]
  },
  {
   "cell_type": "code",
   "execution_count": 1,
   "metadata": {
    "colab": {
     "base_uri": "https://localhost:8080/"
    },
    "executionInfo": {
     "elapsed": 683,
     "status": "ok",
     "timestamp": 1626276515634,
     "user": {
      "displayName": "Kanika Choudhary",
      "photoUrl": "https://lh3.googleusercontent.com/a-/AOh14Gge0Jkr-jf7G6_lQZt0ZNBNv09zX5AMBEwiihyJ=s64",
      "userId": "18159558230090264426"
     },
     "user_tz": -330
    },
    "id": "qGW590DBtTUK",
    "outputId": "29cb80d9-c01f-41a7-d2ce-c20347719d88"
   },
   "outputs": [
    {
     "ename": "NameError",
     "evalue": "name 'grid_result' is not defined",
     "output_type": "error",
     "traceback": [
      "\u001b[1;31m---------------------------------------------------------------------------\u001b[0m",
      "\u001b[1;31mNameError\u001b[0m                                 Traceback (most recent call last)",
      "\u001b[1;32m<ipython-input-1-2d59ddd1b7d7>\u001b[0m in \u001b[0;36m<module>\u001b[1;34m\u001b[0m\n\u001b[0;32m      1\u001b[0m \u001b[1;31m# summarise result\u001b[0m\u001b[1;33m\u001b[0m\u001b[1;33m\u001b[0m\u001b[1;33m\u001b[0m\u001b[0m\n\u001b[1;32m----> 2\u001b[1;33m \u001b[0mprint\u001b[0m\u001b[1;33m(\u001b[0m\u001b[1;34m\"Best: %f using %s\"\u001b[0m \u001b[1;33m%\u001b[0m \u001b[1;33m(\u001b[0m\u001b[0mgrid_result\u001b[0m\u001b[1;33m.\u001b[0m\u001b[0mbest_score_\u001b[0m\u001b[1;33m,\u001b[0m \u001b[0mgrid_result\u001b[0m\u001b[1;33m.\u001b[0m\u001b[0mbest_params_\u001b[0m\u001b[1;33m)\u001b[0m\u001b[1;33m)\u001b[0m\u001b[1;33m\u001b[0m\u001b[1;33m\u001b[0m\u001b[0m\n\u001b[0m\u001b[0;32m      3\u001b[0m \u001b[0mmeans\u001b[0m \u001b[1;33m=\u001b[0m \u001b[0mgrid_result\u001b[0m\u001b[1;33m.\u001b[0m\u001b[0mcv_results_\u001b[0m\u001b[1;33m[\u001b[0m\u001b[1;34m'mean_test_score'\u001b[0m\u001b[1;33m]\u001b[0m\u001b[1;33m\u001b[0m\u001b[1;33m\u001b[0m\u001b[0m\n\u001b[0;32m      4\u001b[0m \u001b[0mstds\u001b[0m \u001b[1;33m=\u001b[0m \u001b[0mgrid_result\u001b[0m\u001b[1;33m.\u001b[0m\u001b[0mcv_results_\u001b[0m\u001b[1;33m[\u001b[0m\u001b[1;34m'std_test_score'\u001b[0m\u001b[1;33m]\u001b[0m\u001b[1;33m\u001b[0m\u001b[1;33m\u001b[0m\u001b[0m\n\u001b[0;32m      5\u001b[0m \u001b[0mparams\u001b[0m \u001b[1;33m=\u001b[0m \u001b[0mgrid_result\u001b[0m\u001b[1;33m.\u001b[0m\u001b[0mcv_results_\u001b[0m\u001b[1;33m[\u001b[0m\u001b[1;34m'params'\u001b[0m\u001b[1;33m]\u001b[0m\u001b[1;33m\u001b[0m\u001b[1;33m\u001b[0m\u001b[0m\n",
      "\u001b[1;31mNameError\u001b[0m: name 'grid_result' is not defined"
     ]
    }
   ],
   "source": [
    "# summarise result\n",
    "print(\"Best: %f using %s\" % (grid_result.best_score_, grid_result.best_params_))\n",
    "means = grid_result.cv_results_['mean_test_score']\n",
    "stds = grid_result.cv_results_['std_test_score']\n",
    "params = grid_result.cv_results_['params']\n",
    "for mean, stdev, param in zip(means, stds, params):\n",
    "    print(\"%f (%f) with: %r\" % (mean, stdev, param))"
   ]
  },
  {
   "cell_type": "code",
   "execution_count": 6,
   "metadata": {},
   "outputs": [
    {
     "name": "stdout",
     "output_type": "stream",
     "text": [
      "[0.1, 0.2, 0.3, 0.4, 0.5]\n"
     ]
    }
   ],
   "source": [
    "print(dropout_rate)"
   ]
  },
  {
   "cell_type": "code",
   "execution_count": null,
   "metadata": {},
   "outputs": [],
   "source": []
  }
 ],
 "metadata": {
  "colab": {
   "authorship_tag": "ABX9TyNltqpRKzmYiwGx+6vp7Y7M",
   "collapsed_sections": [],
   "name": "Neural network for handwritten digits classification.ipynb",
   "provenance": []
  },
  "kernelspec": {
   "display_name": "Python 3",
   "language": "python",
   "name": "python3"
  },
  "language_info": {
   "codemirror_mode": {
    "name": "ipython",
    "version": 3
   },
   "file_extension": ".py",
   "mimetype": "text/x-python",
   "name": "python",
   "nbconvert_exporter": "python",
   "pygments_lexer": "ipython3",
   "version": "3.8.5"
  }
 },
 "nbformat": 4,
 "nbformat_minor": 1
}
